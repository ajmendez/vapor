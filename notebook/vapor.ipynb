{
 "metadata": {
  "name": "",
  "signature": "sha256:9310918136a7f483a36d0f2aa1cd6b5239b507a941b06d233c922e99131f5460"
 },
 "nbformat": 3,
 "nbformat_minor": 0,
 "worksheets": [
  {
   "cells": [
    {
     "cell_type": "code",
     "collapsed": false,
     "input": [
      "import steamapi\n",
      "from pymendez.auth import auth"
     ],
     "language": "python",
     "metadata": {},
     "outputs": [],
     "prompt_number": 29
    },
    {
     "cell_type": "code",
     "collapsed": false,
     "input": [
      "key = auth('steam','key')"
     ],
     "language": "python",
     "metadata": {},
     "outputs": [],
     "prompt_number": 30
    },
    {
     "cell_type": "code",
     "collapsed": false,
     "input": [
      "api = steamapi.core.APIConnection(api_key=key)"
     ],
     "language": "python",
     "metadata": {},
     "outputs": [],
     "prompt_number": 31
    },
    {
     "cell_type": "code",
     "collapsed": false,
     "input": [
      "user = steamapi.user.SteamUser(userurl='haphazardmangos')"
     ],
     "language": "python",
     "metadata": {},
     "outputs": [],
     "prompt_number": 32
    },
    {
     "cell_type": "code",
     "collapsed": false,
     "input": [
      "for game in user.games:\n",
      "    print game.name, game.playtime_forever"
     ],
     "language": "python",
     "metadata": {},
     "outputs": [
      {
       "output_type": "stream",
       "stream": "stdout",
       "text": [
        "Counter-Strike: Source 0\n",
        "Hitman 2: Silent Assassin 0\n",
        "Hitman: Blood Money 0\n",
        "Hitman: Codename 47 0\n",
        "Tomb Raider: Legend 0\n",
        "Tomb Raider: Anniversary 0\n",
        "BioShock 0\n",
        "Half-Life 2 0\n",
        "Half-Life 2: Lost Coast 0\n",
        "Half-Life 2: Episode One 0\n",
        "Portal 649\n",
        "Half-Life 2: Episode Two 0\n",
        "Midnight Club II 0\n",
        "Half-Life 2: Deathmatch 0\n",
        "Audiosurf 0\n",
        "Assassin's Creed 602\n",
        "Grand Theft Auto IV 455\n",
        "Mass Effect 0\n",
        "Machinarium 325\n",
        "Torchlight 5\n",
        "Left 4 Dead 0\n",
        "Left 4 Dead 2 174\n",
        "Left 4 Dead 2 Beta 0\n",
        "Mass Effect 2 0\n",
        "BioShock 2 0\n",
        "Assassin's Creed II 0\n",
        "Just Cause 2 689\n",
        "Batman: Arkham Asylum GOTY Edition 838\n",
        "S.T.A.L.K.E.R.: Shadow of Chernobyl 0\n",
        "S.T.A.L.K.E.R.: Call of Pripyat 0\n",
        "Mafia 0\n",
        "Lara Croft and the Guardian of Light 131\n",
        "Serious Sam HD: The First Encounter 0\n",
        "Serious Sam Classic: The First Encounter 0\n",
        "Serious Sam Classic: The Second Encounter 0\n",
        "Serious Sam Classics: Revolution 0\n",
        "Borderlands 0\n",
        "Fallout: New Vegas 0\n",
        "BIT.TRIP BEAT 41\n",
        "Super Meat Boy 1516\n",
        "BIT.TRIP RUNNER 0\n",
        "SpaceChem 0\n",
        "Dino D-Day 0\n",
        "Magicka 0\n",
        "Portal 2 2280\n",
        "Universe Sandbox 4\n",
        "Terraria 0\n",
        "LIMBO 588\n",
        "Bastion 1141\n",
        "The Binding of Isaac 39\n",
        "Sonic Generations 0\n",
        "L.A. Noire 0\n",
        "Toki Tori 127\n",
        "RUSH 0\n",
        "EDGE 118\n",
        "Really Big Sky 0\n",
        "Dota 2 Test 0\n",
        "Worms Reloaded 0\n",
        "FTL: Faster Than Light 0\n",
        "Zeno Clash 0\n",
        "VVVVVV 88\n",
        "Revenge of the Titans 0\n",
        "Jamestown 2751\n",
        "Capsized 0\n",
        "Trine 88\n",
        "Trine 2 965\n",
        "Torchlight II 2713\n",
        "Pid  283\n",
        "Faerie Solitaire 0\n",
        "Age of Empires II: HD Edition 1615\n",
        "Broken Age 194\n",
        "FEZ 832\n",
        "Gun Monkeys 0\n",
        "Strike Vector 103\n",
        "Papers, Please 279\n",
        "Ikaruga 235\n",
        "The Stanley Parable 257\n",
        "RACE 07 0\n",
        "GTR Evolution 0\n",
        "RaceRoom Racing Experience  0\n",
        "Codename Gordon 7\n",
        "Team Fortress 2 3670\n",
        "Dota 2 12\n",
        "Alien Swarm 665\n"
       ]
      }
     ],
     "prompt_number": 33
    },
    {
     "cell_type": "code",
     "collapsed": false,
     "input": [
      "vars(user)"
     ],
     "language": "python",
     "metadata": {},
     "outputs": [
      {
       "metadata": {},
       "output_type": "pyout",
       "prompt_number": 34,
       "text": [
        "{'_cache': {'games': ([<SteamApp \"Counter-Strike: Source\" (240)>,\n",
        "    <SteamApp \"Hitman 2: Silent Assassin\" (6850)>,\n",
        "    <SteamApp \"Hitman: Blood Money\" (6860)>,\n",
        "    <SteamApp \"Hitman: Codename 47\" (6900)>,\n",
        "    <SteamApp \"Tomb Raider: Legend\" (7000)>,\n",
        "    <SteamApp \"Tomb Raider: Anniversary\" (8000)>,\n",
        "    <SteamApp \"BioShock\" (7670)>,\n",
        "    <SteamApp \"Half-Life 2\" (220)>,\n",
        "    <SteamApp \"Half-Life 2: Lost Coast\" (340)>,\n",
        "    <SteamApp \"Half-Life 2: Episode One\" (380)>,\n",
        "    <SteamApp \"Portal\" (400)>,\n",
        "    <SteamApp \"Half-Life 2: Episode Two\" (420)>,\n",
        "    <SteamApp \"Midnight Club II\" (12160)>,\n",
        "    <SteamApp \"Half-Life 2: Deathmatch\" (320)>,\n",
        "    <SteamApp \"Audiosurf\" (12900)>,\n",
        "    <SteamApp \"Assassin's Creed\" (15100)>,\n",
        "    <SteamApp \"Grand Theft Auto IV\" (12210)>,\n",
        "    <SteamApp \"Mass Effect\" (17460)>,\n",
        "    <SteamApp \"Machinarium\" (40700)>,\n",
        "    <SteamApp \"Torchlight\" (41500)>,\n",
        "    <SteamApp \"Left 4 Dead\" (500)>,\n",
        "    <SteamApp \"Left 4 Dead 2\" (550)>,\n",
        "    <SteamApp \"Left 4 Dead 2 Beta\" (223530)>,\n",
        "    <SteamApp \"Mass Effect 2\" (24980)>,\n",
        "    <SteamApp \"BioShock 2\" (8850)>,\n",
        "    <SteamApp \"Assassin's Creed II\" (33230)>,\n",
        "    <SteamApp \"Just Cause 2\" (8190)>,\n",
        "    <SteamApp \"Batman: Arkham Asylum GOTY Edition\" (35140)>,\n",
        "    <SteamApp \"S.T.A.L.K.E.R.: Shadow of Chernobyl\" (4500)>,\n",
        "    <SteamApp \"S.T.A.L.K.E.R.: Call of Pripyat\" (41700)>,\n",
        "    <SteamApp \"Mafia\" (40990)>,\n",
        "    <SteamApp \"Lara Croft and the Guardian of Light\" (35130)>,\n",
        "    <SteamApp \"Serious Sam HD: The First Encounter\" (41000)>,\n",
        "    <SteamApp \"Serious Sam Classic: The First Encounter\" (41050)>,\n",
        "    <SteamApp \"Serious Sam Classic: The Second Encounter\" (41060)>,\n",
        "    <SteamApp \"Serious Sam Classics: Revolution\" (227780)>,\n",
        "    <SteamApp \"Borderlands\" (8980)>,\n",
        "    <SteamApp \"Fallout: New Vegas\" (22380)>,\n",
        "    <SteamApp \"BIT.TRIP BEAT\" (63700)>,\n",
        "    <SteamApp \"Super Meat Boy\" (40800)>,\n",
        "    <SteamApp \"BIT.TRIP RUNNER\" (63710)>,\n",
        "    <SteamApp \"SpaceChem\" (92800)>,\n",
        "    <SteamApp \"Dino D-Day\" (70000)>,\n",
        "    <SteamApp \"Magicka\" (42910)>,\n",
        "    <SteamApp \"Portal 2\" (620)>,\n",
        "    <SteamApp \"Universe Sandbox\" (72200)>,\n",
        "    <SteamApp \"Terraria\" (105600)>,\n",
        "    <SteamApp \"LIMBO\" (48000)>,\n",
        "    <SteamApp \"Bastion\" (107100)>,\n",
        "    <SteamApp \"The Binding of Isaac\" (113200)>,\n",
        "    <SteamApp \"Sonic Generations\" (71340)>,\n",
        "    <SteamApp \"L.A. Noire\" (110800)>,\n",
        "    <SteamApp \"Toki Tori\" (38700)>,\n",
        "    <SteamApp \"RUSH\" (38720)>,\n",
        "    <SteamApp \"EDGE\" (38740)>,\n",
        "    <SteamApp \"Really Big Sky\" (201570)>,\n",
        "    <SteamApp \"Dota 2 Test\" (205790)>,\n",
        "    <SteamApp \"Worms Reloaded\" (22600)>,\n",
        "    <SteamApp \"FTL: Faster Than Light\" (212680)>,\n",
        "    <SteamApp \"Zeno Clash\" (22200)>,\n",
        "    <SteamApp \"VVVVVV\" (70300)>,\n",
        "    <SteamApp \"Revenge of the Titans\" (93200)>,\n",
        "    <SteamApp \"Jamestown\" (94200)>,\n",
        "    <SteamApp \"Capsized\" (95300)>,\n",
        "    <SteamApp \"Trine\" (35700)>,\n",
        "    <SteamApp \"Trine 2\" (35720)>,\n",
        "    <SteamApp \"Torchlight II\" (200710)>,\n",
        "    <SteamApp \"Pid \" (218740)>,\n",
        "    <SteamApp \"Faerie Solitaire\" (38600)>,\n",
        "    <SteamApp \"Age of Empires II: HD Edition\" (221380)>,\n",
        "    <SteamApp \"Broken Age\" (232790)>,\n",
        "    <SteamApp \"FEZ\" (224760)>,\n",
        "    <SteamApp \"Gun Monkeys\" (239450)>,\n",
        "    <SteamApp \"Strike Vector\" (246700)>,\n",
        "    <SteamApp \"Papers, Please\" (239030)>,\n",
        "    <SteamApp \"Ikaruga\" (253750)>,\n",
        "    <SteamApp \"The Stanley Parable\" (221910)>,\n",
        "    <SteamApp \"RACE 07\" (8600)>,\n",
        "    <SteamApp \"GTR Evolution\" (8660)>,\n",
        "    <SteamApp \"RaceRoom Racing Experience \" (211500)>,\n",
        "    <SteamApp \"Codename Gordon\" (92)>,\n",
        "    <SteamApp \"Team Fortress 2\" (440)>,\n",
        "    <SteamApp \"Dota 2\" (570)>,\n",
        "    <SteamApp \"Alien Swarm\" (630)>],\n",
        "   1409764770.856909)},\n",
        " '_id': u'76561198022999217'}"
       ]
      }
     ],
     "prompt_number": 34
    },
    {
     "cell_type": "code",
     "collapsed": false,
     "input": [
      "user.last_logoff"
     ],
     "language": "python",
     "metadata": {},
     "outputs": [
      {
       "metadata": {},
       "output_type": "pyout",
       "prompt_number": 42,
       "text": [
        "datetime.datetime(2014, 8, 24, 20, 43, 44)"
       ]
      }
     ],
     "prompt_number": 42
    },
    {
     "cell_type": "code",
     "collapsed": false,
     "input": [
      "time.gmtime(1269623845)"
     ],
     "language": "python",
     "metadata": {},
     "outputs": [
      {
       "metadata": {},
       "output_type": "pyout",
       "prompt_number": 20,
       "text": [
        "time.struct_time(tm_year=2010, tm_mon=3, tm_mday=26, tm_hour=17, tm_min=17, tm_sec=25, tm_wday=4, tm_yday=85, tm_isdst=0)"
       ]
      }
     ],
     "prompt_number": 20
    },
    {
     "cell_type": "code",
     "collapsed": false,
     "input": [
      "import time"
     ],
     "language": "python",
     "metadata": {},
     "outputs": [],
     "prompt_number": 38
    },
    {
     "cell_type": "code",
     "collapsed": false,
     "input": [
      "datetime.datetime.utcnow()"
     ],
     "language": "python",
     "metadata": {},
     "outputs": [
      {
       "metadata": {},
       "output_type": "pyout",
       "prompt_number": 40,
       "text": [
        "datetime.datetime(2014, 9, 3, 17, 21, 44, 906763)"
       ]
      }
     ],
     "prompt_number": 40
    },
    {
     "cell_type": "code",
     "collapsed": false,
     "input": [],
     "language": "python",
     "metadata": {},
     "outputs": []
    }
   ],
   "metadata": {}
  }
 ]
}