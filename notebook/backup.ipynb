{
 "metadata": {
  "name": "",
  "signature": "sha256:911ec31654fce2843b4693cdeff19d27c9ea9db0feaed2b156a4994d5df96d25"
 },
 "nbformat": 3,
 "nbformat_minor": 0,
 "worksheets": [
  {
   "cells": [
    {
     "cell_type": "markdown",
     "metadata": {},
     "source": [
      "# Backup plots"
     ]
    },
    {
     "cell_type": "code",
     "collapsed": false,
     "input": [
      "import json\n",
      "from collections import Counter\n",
      "from vapor.api import BACKUPFILE"
     ],
     "language": "python",
     "metadata": {},
     "outputs": [],
     "prompt_number": 13
    },
    {
     "cell_type": "code",
     "collapsed": false,
     "input": [
      "cat = json.load(open(BACKUPFILE,'r'))"
     ],
     "language": "python",
     "metadata": {},
     "outputs": [],
     "prompt_number": 6
    },
    {
     "cell_type": "code",
     "collapsed": false,
     "input": [
      "for x in cat[1:]:\n",
      "    print x['date'], np.sum([g[-1] for g in x['games'].itervalues()])"
     ],
     "language": "python",
     "metadata": {},
     "outputs": [
      {
       "output_type": "stream",
       "stream": "stdout",
       "text": [
        "2014-11-15T15:23:11.181665 24479\n",
        "2014-11-05T19:50:01.065166 24479\n",
        "2014-11-03T11:22:09.955846 24479\n",
        "2014-10-27T11:47:43.390562 24479\n",
        "2014-10-27T11:46:54.799608 24479\n"
       ]
      }
     ],
     "prompt_number": 7
    },
    {
     "cell_type": "code",
     "collapsed": false,
     "input": [
      "# {g[0]:g[1] for g in cat[1]['games'].itervalues()}\n",
      "c = Counter()\n",
      "for g in cat[1]['games'].itervalues():\n",
      "    c[g[0]] = g[1]\n",
      "c.most_common(10)"
     ],
     "language": "python",
     "metadata": {},
     "outputs": [
      {
       "metadata": {},
       "output_type": "pyout",
       "prompt_number": 25,
       "text": [
        "[(u'Team Fortress 2', 3670),\n",
        " (u'Jamestown', 2751),\n",
        " (u'Torchlight II', 2713),\n",
        " (u'Portal 2', 2280),\n",
        " (u'Age of Empires II: HD Edition', 1615),\n",
        " (u'Super Meat Boy', 1516),\n",
        " (u'Bastion', 1141),\n",
        " (u'Trine 2', 965),\n",
        " (u'Batman: Arkham Asylum GOTY Edition', 838),\n",
        " (u'FEZ', 832)]"
       ]
      }
     ],
     "prompt_number": 25
    },
    {
     "cell_type": "code",
     "collapsed": false,
     "input": [],
     "language": "python",
     "metadata": {},
     "outputs": []
    }
   ],
   "metadata": {}
  }
 ]
}