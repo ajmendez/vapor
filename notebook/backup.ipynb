{
 "metadata": {
  "name": "",
  "signature": "sha256:62121d96fd1f354f90fbf49d2da4fcd2ab4981d6f2ddc77e5f8385c02f60d23f"
 },
 "nbformat": 3,
 "nbformat_minor": 0,
 "worksheets": [
  {
   "cells": [
    {
     "cell_type": "markdown",
     "metadata": {},
     "source": [
      "# Backup plots"
     ]
    },
    {
     "cell_type": "code",
     "collapsed": false,
     "input": [
      "import json\n",
      "from vapor.api import BACKUPFILE"
     ],
     "language": "python",
     "metadata": {},
     "outputs": [],
     "prompt_number": 1
    },
    {
     "cell_type": "code",
     "collapsed": false,
     "input": [
      "cat = json.load(open(BACKUPFILE,'r'))"
     ],
     "language": "python",
     "metadata": {},
     "outputs": [],
     "prompt_number": 2
    },
    {
     "cell_type": "code",
     "collapsed": false,
     "input": [
      "for x in cat[1:]:\n",
      "    print x['date'], np.sum([g[-1] for g in x['games'].itervalues()])"
     ],
     "language": "python",
     "metadata": {},
     "outputs": [
      {
       "output_type": "stream",
       "stream": "stdout",
       "text": [
        "2014-11-15T15:23:11.181665 24479\n",
        "2014-11-05T19:50:01.065166 24479\n",
        "2014-11-03T11:22:09.955846 24479\n",
        "2014-10-27T11:47:43.390562 24479\n",
        "2014-10-27T11:46:54.799608 24479\n"
       ]
      }
     ],
     "prompt_number": 8
    },
    {
     "cell_type": "code",
     "collapsed": false,
     "input": [],
     "language": "python",
     "metadata": {},
     "outputs": []
    }
   ],
   "metadata": {}
  }
 ]
}